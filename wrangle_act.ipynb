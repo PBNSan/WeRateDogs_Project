{
 "cells": [
  {
   "cell_type": "code",
   "execution_count": null,
   "metadata": {},
   "outputs": [],
   "source": [
    "import pandas as pd\n",
    "import numpy as np\n",
    "import datetime\n",
    "import time\n",
    "import json\n",
    "import os\n",
    "import requests\n",
    "import string\n",
    "import tweepy"
   ]
  },
  {
   "cell_type": "markdown",
   "metadata": {},
   "source": [
    "#Gathering Data\n",
    "\n",
    "1) Manually uploading the file  twitter_archive_enhanced.csv \n",
    "\n",
    "2) Programmatically downloading the file image_predictions.tsv from the Udacity Servers \n",
    "\n",
    "3) Using the Tweepy library to gather tweet data in JSON format tweet_json.txt, finally reading this text file data into a pandas dataframe "
   ]
  },
  {
   "cell_type": "code",
   "execution_count": null,
   "metadata": {},
   "outputs": [],
   "source": [
    "# Step1\n",
    "twitter_archive = pd.read_csv('twitter-archive-enhanced.csv')"
   ]
  },
  {
   "cell_type": "code",
   "execution_count": null,
   "metadata": {},
   "outputs": [],
   "source": [
    "# Step2\n",
    "# Get data\n",
    "url = 'https://d17h27t6h515a5.cloudfront.net/topher/2017/August/599fd2ad_image-predictions/image-predictions.tsv'\n",
    "response = requests.get(url)\n",
    "# Create file\n",
    "with open('image_predictions.tsv', 'wb') as file:\n",
    "    file.write(response.content)"
   ]
  },
  {
   "cell_type": "code",
   "execution_count": null,
   "metadata": {},
   "outputs": [],
   "source": [
    "image_predications = pd.read_csv('image_predictions.tsv', sep='\\t')"
   ]
  },
  {
   "cell_type": "code",
   "execution_count": null,
   "metadata": {},
   "outputs": [],
   "source": [
    "#Step3\n",
    "consumer_key = 'tt5xX3CPR5zRTLPeahaOyyxNi'\n",
    "consumer_secret = 'KVbNZuOmS5blv3x6uHSGFfNS7b3wsSrSzTz5g5r4jntBeR7i5M'\n",
    "access_token = '1108419130623836160-RoHVyOqOgNJZDgwnz0I99ameiv97sH'\n",
    "access_secret = 'EknDMDLb8ToXe3kySTWpc2ezGthOJcBtMCrE0hsYfKVd1'\n",
    "\n",
    "auth = tweepy.OAuthHandler(consumer_key, consumer_secret)\n",
    "auth.set_access_token(access_token, access_secret)\n",
    "\n",
    "api = tweepy.API(auth)"
   ]
  },
  {
   "cell_type": "code",
   "execution_count": null,
   "metadata": {},
   "outputs": [],
   "source": [
    "df_list = []\n",
    "\n",
    "error_list = []\n",
    "\n",
    "start = time.time()\n",
    "\n",
    "# Will add each available tweet json to df_list\n",
    "for tweet_id in twitter_archive['tweet_id']:\n",
    "    try:\n",
    "        tweet = api.get_status(tweet_id, tweet_mode='extended', wait_on_rate_limit = True,\n",
    "                               wait_on_rate_limit_notify = True)._json \n",
    "        favorites = tweet['favorite_count'] # tweet's favorites\n",
    "        retweets = tweet['retweet_count'] \n",
    "        user_followers = tweet['user']['followers_count'] \n",
    "        user_favourites = tweet['user']['favourites_count'] # user's favorites\n",
    "        date_time = tweet['created_at'] # The date and time of the creation\n",
    "        \n",
    "        df_list.append({'tweet_id': int(tweet_id), 'favorites': int(favorites), 'retweets': int(retweets),\n",
    "                        'user_followers': int(user_followers), 'user_favourites': int(user_favourites),\n",
    "                        'date_time': pd.to_datetime(date_time)})\n",
    "        \n",
    "    except Exception as e:\n",
    "        print(str(tweet_id)+ \" __ \" + str(e))\n",
    "        error_list.append(tweet_id)\n",
    "        \n",
    "\n",
    "end = time.time()\n",
    "print(end - start)"
   ]
  },
  {
   "cell_type": "code",
   "execution_count": null,
   "metadata": {},
   "outputs": [],
   "source": [
    "df_tweets"
   ]
  },
  {
   "cell_type": "code",
   "execution_count": null,
   "metadata": {},
   "outputs": [],
   "source": []
  }
 ],
 "metadata": {
  "kernelspec": {
   "display_name": "Python 3",
   "language": "python",
   "name": "python3"
  },
  "language_info": {
   "codemirror_mode": {
    "name": "ipython",
    "version": 3
   },
   "file_extension": ".py",
   "mimetype": "text/x-python",
   "name": "python",
   "nbconvert_exporter": "python",
   "pygments_lexer": "ipython3",
   "version": "3.6.3"
  }
 },
 "nbformat": 4,
 "nbformat_minor": 2
}
